{
 "cells": [
  {
   "cell_type": "markdown",
   "metadata": {},
   "source": [
    "Import modulu RQA a Dataset"
   ]
  },
  {
   "cell_type": "code",
   "execution_count": 1,
   "metadata": {},
   "outputs": [],
   "source": [
    "from skgaze.core.RQA import RQA\n",
    "from skgaze.core.Dataset import Dataset"
   ]
  },
  {
   "cell_type": "markdown",
   "metadata": {},
   "source": [
    "Načítanie dátovej sady"
   ]
  },
  {
   "cell_type": "code",
   "execution_count": 2,
   "metadata": {},
   "outputs": [],
   "source": [
    "dataset = Dataset('../data/DOD2016_fixations_10_participants.tsv',\n",
    "'../data/SegmentedPages.txt')"
   ]
  },
  {
   "cell_type": "markdown",
   "metadata": {},
   "source": [
    "Vytvorenie inštanice triedy RQA"
   ]
  },
  {
   "cell_type": "code",
   "execution_count": 8,
   "metadata": {},
   "outputs": [],
   "source": [
    "rqa_test = RQA(dataset)"
   ]
  },
  {
   "cell_type": "markdown",
   "metadata": {},
   "source": [
    "Zavolanie funkcie pre výpočet rekurencie participanta P01m"
   ]
  },
  {
   "cell_type": "code",
   "execution_count": 9,
   "metadata": {},
   "outputs": [
    {
     "data": {
      "text/plain": [
       "{'recurrence': 3276.0,\n",
       " 'recurrenceRate': 0.986449864498645,\n",
       " 'recurrenceMeanX': 26.77960927960928,\n",
       " 'recurrenceMeanY': 53.98015873015873,\n",
       " 'recurrenceStandartDeviationX': 182.69951005644106,\n",
       " 'recurrenceStandartDeviationY': 366.0662520356867}"
      ]
     },
     "execution_count": 9,
     "metadata": {},
     "output_type": "execute_result"
    }
   ],
   "source": [
    "rqa_test.CalculateRecurrenceFunction(1,1,1,\"P01m\")"
   ]
  },
  {
   "cell_type": "markdown",
   "metadata": {},
   "source": [
    "Zavolanie funkcie pre výpočet reokurencie participanta P01m"
   ]
  },
  {
   "cell_type": "code",
   "execution_count": 10,
   "metadata": {},
   "outputs": [
    {
     "data": {
      "text/plain": [
       "{'reoccurence': 2,\n",
       " 'reoccurenceRate': 0.06022282445046673,\n",
       " 'reoccurenceDeterminism': 0.0,\n",
       " 'reoccurenceLaminarity': 25.0,\n",
       " 'reoccurenceCORM': 53.08641975308642}"
      ]
     },
     "execution_count": 10,
     "metadata": {},
     "output_type": "execute_result"
    }
   ],
   "source": [
    "rqa_test.CalculateReoccurrenceFunction(1,\"P01m\")"
   ]
  },
  {
   "cell_type": "markdown",
   "metadata": {},
   "source": [
    "Ukažka výstupu v prípade nezadania indentifikačného reťazca participanta."
   ]
  },
  {
   "cell_type": "code",
   "execution_count": 11,
   "metadata": {},
   "outputs": [
    {
     "data": {
      "text/plain": [
       "{'P01m': {'recurrence': 3276.0,\n",
       "  'recurrenceRate': 0.986449864498645,\n",
       "  'recurrenceMeanX': 26.77960927960928,\n",
       "  'recurrenceMeanY': 53.98015873015873,\n",
       "  'recurrenceStandartDeviationX': 182.69951005644106,\n",
       "  'recurrenceStandartDeviationY': 366.0662520356867},\n",
       " 'P01o': {'recurrence': 126.0,\n",
       "  'recurrenceRate': 0.9264705882352942,\n",
       "  'recurrenceMeanX': 5.198412698412699,\n",
       "  'recurrenceMeanY': 10.642857142857142,\n",
       "  'recurrenceStandartDeviationX': 14.455852822438567,\n",
       "  'recurrenceStandartDeviationY': 28.300707220041676},\n",
       " 'P01n': {'recurrence': 4992.0,\n",
       "  'recurrenceRate': 0.9885148514851485,\n",
       "  'recurrenceMeanX': 33.22035256410256,\n",
       "  'recurrenceMeanY': 66.8467548076923,\n",
       "  'recurrenceStandartDeviationX': 253.432438658787,\n",
       "  'recurrenceStandartDeviationY': 507.35230131712257},\n",
       " 'P01p': {'recurrence': 674.0,\n",
       "  'recurrenceRate': 0.9587482219061166,\n",
       "  'recurrenceMeanX': 12.14540059347181,\n",
       "  'recurrenceMeanY': 24.541543026706233,\n",
       "  'recurrenceStandartDeviationX': 54.246578044168785,\n",
       "  'recurrenceStandartDeviationY': 108.41255624494273},\n",
       " 'P01q': {'recurrence': 724.0,\n",
       "  'recurrenceRate': 0.9770580296896086,\n",
       "  'recurrenceMeanX': 12.469613259668508,\n",
       "  'recurrenceMeanY': 25.46961325966851,\n",
       "  'recurrenceStandartDeviationX': 57.092875766396936,\n",
       "  'recurrenceStandartDeviationY': 115.09278810469776},\n",
       " 'P02q': {'recurrence': 200.0,\n",
       "  'recurrenceRate': 0.9523809523809523,\n",
       "  'recurrenceMeanX': 6.335,\n",
       "  'recurrenceMeanY': 13.35,\n",
       "  'recurrenceStandartDeviationX': 20.182495172178292,\n",
       "  'recurrenceStandartDeviationY': 41.76897473005531},\n",
       " 'P01r': {'recurrence': 683.0,\n",
       "  'recurrenceRate': 0.9715504978662873,\n",
       "  'recurrenceMeanX': 12.323572474377745,\n",
       "  'recurrenceMeanY': 24.903367496339676,\n",
       "  'recurrenceStandartDeviationX': 55.561414146441074,\n",
       "  'recurrenceStandartDeviationY': 111.8848944429335},\n",
       " 'P03r': {'recurrence': 6703.0,\n",
       "  'recurrenceRate': 0.9877689360447981,\n",
       "  'recurrenceMeanX': 38.64687453379084,\n",
       "  'recurrenceMeanY': 77.49172012531702,\n",
       "  'recurrenceStandartDeviationX': 317.980118134285,\n",
       "  'recurrenceStandartDeviationY': 635.0577041420287},\n",
       " 'P01i': {'recurrence': 291.0,\n",
       "  'recurrenceRate': 0.97,\n",
       "  'recurrenceMeanX': 7.86254295532646,\n",
       "  'recurrenceMeanY': 16.185567010309278,\n",
       "  'recurrenceStandartDeviationX': 28.09280483000569,\n",
       "  'recurrenceStandartDeviationY': 56.476473849921476},\n",
       " 'P02i': {'recurrence': 158.0,\n",
       "  'recurrenceRate': 0.9239766081871345,\n",
       "  'recurrenceMeanX': 5.715189873417722,\n",
       "  'recurrenceMeanY': 12.018987341772151,\n",
       "  'recurrenceStandartDeviationX': 16.72953970640341,\n",
       "  'recurrenceStandartDeviationY': 34.42006839343115}}"
      ]
     },
     "execution_count": 11,
     "metadata": {},
     "output_type": "execute_result"
    }
   ],
   "source": [
    "rqa_test.CalculateRecurrenceFunction(1,1,1)"
   ]
  }
 ],
 "metadata": {
  "kernelspec": {
   "display_name": "Python 3",
   "language": "python",
   "name": "python3"
  },
  "language_info": {
   "codemirror_mode": {
    "name": "ipython",
    "version": 3
   },
   "file_extension": ".py",
   "mimetype": "text/x-python",
   "name": "python",
   "nbconvert_exporter": "python",
   "pygments_lexer": "ipython3",
   "version": "3.7.3"
  }
 },
 "nbformat": 4,
 "nbformat_minor": 2
}
