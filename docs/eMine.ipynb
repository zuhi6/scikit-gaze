{
 "cells": [
  {
   "cell_type": "markdown",
   "metadata": {},
   "source": [
    "Príklad použitia eMine algoritmu v našej knižnici a porovanie výsledkov s implementáciou tohoto algoritmu vo webovej aplikácii ScanPath Evaulator https://scanpath-evaluator.herokuapp.com/"
   ]
  },
  {
   "cell_type": "markdown",
   "metadata": {},
   "source": [
    "Načítame jednotlivé moduly v tomto prípade nám bude stačiť trieda Dataset a trieda eMine. Zvyšné moduly sú z hľadiska našej knižnice nepodstátne."
   ]
  },
  {
   "cell_type": "code",
   "execution_count": 1,
   "metadata": {},
   "outputs": [],
   "source": [
    "import os\n",
    "os.getcwd()\n",
    "os.chdir('C:/Users/zuhi/Documents/workspaces/scikit-gaze/')\n",
    "from src.core.Dataset import Dataset\n",
    "from src.common_scanpath.eMine import eMine\n",
    "from IPython.display import Image"
   ]
  },
  {
   "cell_type": "markdown",
   "metadata": {},
   "source": [
    "Vytvoríme inštanciu triedy Dataset a načítame volne dostupnú dátovu sadu z článku *Scanpath Trend Analysis on Web Pages: Clustering Eye Tracking Scanpaths*. Táto konkrétna dátová sada slúži na testovanie algoritmu eMine na stránke Apple."
   ]
  },
  {
   "cell_type": "code",
   "execution_count": 8,
   "metadata": {},
   "outputs": [],
   "source": [
    "dataset = Dataset('./data/template_sta/eMINE_searching_tasks/Avg/Scanpaths.tsv',\n",
    "'./data/template_sta/eMINE_searching_tasks/Avg/SegmentedPages.txt',filtered_dataset=True)"
   ]
  },
  {
   "cell_type": "markdown",
   "metadata": {},
   "source": [
    "V tomto kroku jednoducho pošleme do triedy STA našu dátovú sadu a zavoláme metódu run_sta()."
   ]
  },
  {
   "cell_type": "code",
   "execution_count": 9,
   "metadata": {},
   "outputs": [],
   "source": [
    "eMine_result = eMine(dataset).run_emine()"
   ]
  },
  {
   "cell_type": "markdown",
   "metadata": {},
   "source": [
    "Pre porovnanie výsledkov si vypočítame priemernú podobnosť sekvencií pohľadu jednotlivých participantov k spoločnej sekvencií pohľadu."
   ]
  },
  {
   "cell_type": "code",
   "execution_count": 10,
   "metadata": {},
   "outputs": [],
   "source": [
    "avg_similarity = 0\n",
    "for key, value in eMine_result[\"similarity\"].items():\n",
    "    avg_similarity += value\n",
    "\n",
    "avg_similarity /= len(eMine_result[\"similarity\"])"
   ]
  },
  {
   "cell_type": "markdown",
   "metadata": {},
   "source": [
    "Náš algoritmus určil za spoločnú cestu sekvenciu pohľadu G I no ScanPath Evaulator našiel G I G I a teda podobnosť voči ostatným participantom sa zjavne líši."
   ]
  },
  {
   "cell_type": "code",
   "execution_count": 11,
   "metadata": {},
   "outputs": [
    {
     "data": {
      "text/plain": [
       "2.5685411685354236"
      ]
     },
     "execution_count": 11,
     "metadata": {},
     "output_type": "execute_result"
    }
   ],
   "source": [
    "avg_similarity"
   ]
  },
  {
   "cell_type": "code",
   "execution_count": 12,
   "metadata": {},
   "outputs": [
    {
     "data": {
      "text/plain": [
       "[['G', 0], ['I', 0]]"
      ]
     },
     "execution_count": 12,
     "metadata": {},
     "output_type": "execute_result"
    }
   ],
   "source": [
    "eMine_result[\"fixations\"]"
   ]
  },
  {
   "cell_type": "code",
   "execution_count": 13,
   "metadata": {},
   "outputs": [
    {
     "data": {
      "image/png": "[encoded data removed]",
      "text/plain": [
       "<IPython.core.display.Image object>"
      ]
     },
     "execution_count": 13,
     "metadata": {},
     "output_type": "execute_result"
    }
   ],
   "source": [
    "Image(\"./data/images/avg-searching-emine.png\")"
   ]
  }
 ],
 "metadata": {
  "kernelspec": {
   "display_name": "Python 3",
   "language": "python",
   "name": "python3"
  },
  "language_info": {
   "codemirror_mode": {
    "name": "ipython",
    "version": 3
   },
   "file_extension": ".py",
   "mimetype": "text/x-python",
   "name": "python",
   "nbconvert_exporter": "python",
   "pygments_lexer": "ipython3",
   "version": "3.6.8"
  }
 },
 "nbformat": 4,
 "nbformat_minor": 2
}
