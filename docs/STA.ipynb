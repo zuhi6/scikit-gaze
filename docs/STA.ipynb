{
 "cells": [
  {
   "cell_type": "markdown",
   "metadata": {},
   "source": [
    "Načítame jednotlivé moduly v tomto prípade nám bude stačiť trieda Dataset a trieda STA. Zvyšné moduly sú z hľadiska našej knižnice nepodstátne."
   ]
  },
  {
   "cell_type": "code",
   "execution_count": 8,
   "metadata": {},
   "outputs": [],
   "source": [
    "import os\n",
    "os.getcwd()\n",
    "os.chdir('C:/Users/zuhi/Documents/workspaces/scikit-gaze/')\n",
    "from src.core.Dataset import Dataset\n",
    "from src.common_scanpath.STA import STA\n"
   ]
  },
  {
   "cell_type": "markdown",
   "metadata": {},
   "source": [
    "Vytvoríme inštanciu triedy Dataset a načítame dátovú sadu z DOD2016."
   ]
  },
  {
   "cell_type": "code",
   "execution_count": 9,
   "metadata": {},
   "outputs": [],
   "source": [
    "dataset = Dataset('./data/template_sta/regions/DOD2016_Data_Export.tsv',\n",
    "'./data/template_sta/regions/SegmentedPages.txt')"
   ]
  },
  {
   "cell_type": "markdown",
   "metadata": {},
   "source": [
    "V tomto kroku jednoducho pošleme do triedy STA našu dátovú sadu a zavoláme metódu run_sta()."
   ]
  },
  {
   "cell_type": "code",
   "execution_count": 10,
   "metadata": {},
   "outputs": [],
   "source": [
    "sta_result = STA(dataset).run_sta()\n"
   ]
  },
  {
   "cell_type": "markdown",
   "metadata": {},
   "source": [
    "V sta_result sa nachádza objekt kde atribút fixations hovorí o spoločnej sekvencií pohľadu."
   ]
  },
  {
   "cell_type": "code",
   "execution_count": 11,
   "metadata": {
    "scrolled": true
   },
   "outputs": [
    {
     "data": {
      "text/plain": [
       "[['e', 310],\n",
       " ['D', 282],\n",
       " ['E', 423],\n",
       " ['F', 241],\n",
       " ['B', 342],\n",
       " ['C', 306],\n",
       " ['G', 205],\n",
       " ['A', 290],\n",
       " ['P', 320],\n",
       " ['R', 330]]"
      ]
     },
     "execution_count": 11,
     "metadata": {},
     "output_type": "execute_result"
    }
   ],
   "source": [
    "sta_result['fixations']"
   ]
  },
  {
   "cell_type": "markdown",
   "metadata": {},
   "source": [
    "Atribút similarity hovorí o podobnosti sekvencií pohľadu jednotlivých participantov k spoločnej sekvencií pohľadu."
   ]
  },
  {
   "cell_type": "code",
   "execution_count": 12,
   "metadata": {},
   "outputs": [
    {
     "data": {
      "text/plain": [
       "{'P01m': 0.40322580645161255,\n",
       " 'P01o': 2.0408163265306145,\n",
       " 'P01n': 0.23677979479084232,\n",
       " 'P01p': 0.9090909090909038,\n",
       " 'P01q': 0.7772020725388629,\n",
       " 'P02q': 1.200000000000001,\n",
       " 'P01r': 0.4106776180698102,\n",
       " 'P03r': 0.4100227790432842,\n",
       " 'P01i': 1.132075471698113,\n",
       " 'P02i': 2.0408163265306145,\n",
       " 'P02j': 0.6079027355623046,\n",
       " 'P03j': 1.0000000000000009,\n",
       " 'P02k': 0.5658852061439013,\n",
       " 'P03k': 0.7288629737609353,\n",
       " 'P02l': 0.24610336341263084,\n",
       " 'P03l': 1.8181818181818188,\n",
       " 'P04l': 0.1175088131609825,\n",
       " 'P03h': 1.273885350318471,\n",
       " 'P06h': 1.4423076923076872,\n",
       " 'P07h': 1.0479041916167664,\n",
       " 'P08h': 1.2089810017271163,\n",
       " 'P09h': 0.7022471910112404,\n",
       " 'P01g': 0.41631973355537033,\n",
       " 'P02g': 1.0781671159029615,\n",
       " 'P03g': 5.000000000000004,\n",
       " 'P04g': 0.9513742071881603,\n",
       " 'P01f': 0.5760368663594417,\n",
       " 'P02f': 1.7543859649122862,\n",
       " 'P03f': 0.5590496156533842,\n",
       " 'P04f': 0.9411764705882342,\n",
       " 'P02e': 0.5747126436781658,\n",
       " 'P03e': 2.0161290322580627,\n",
       " 'P04e': 0.8522727272727293,\n",
       " 'P05e': 0.12722646310432406,\n",
       " 'P06e': 0.2622377622377603,\n",
       " 'P01a': 0.5192107995846351,\n",
       " 'P02a': 0.48859934853420217,\n",
       " 'P03a': 0.3875968992248069,\n",
       " 'P04a': 0.5434782608695676,\n",
       " 'P02b': 0.911854103343468,\n",
       " 'P03b': 0.9868421052631526,\n",
       " 'P04b': 0.4481792717086819,\n",
       " 'P05b': 1.0351966873705987,\n",
       " 'P06b': 0.4990019960079861,\n",
       " 'P01c': 1.2987012987012991,\n",
       " 'P02c': 2.049180327868849,\n",
       " 'P03c': 0.5497861942577842,\n",
       " 'P04c': 1.5086206896551713,\n",
       " 'P05c': 1.8181818181818188,\n",
       " 'P02d': 0.6896551724137945,\n",
       " 'P03d': 1.3157894736842146,\n",
       " 'P04d': 1.0558069381598756,\n",
       " 'P05d': 0.5090909090909146}"
      ]
     },
     "execution_count": 12,
     "metadata": {},
     "output_type": "execute_result"
    }
   ],
   "source": [
    "sta_result[\"similarity\"]"
   ]
  }
 ],
 "metadata": {
  "kernelspec": {
   "display_name": "Python 3",
   "language": "python",
   "name": "python3"
  },
  "language_info": {
   "codemirror_mode": {
    "name": "ipython",
    "version": 3
   },
   "file_extension": ".py",
   "mimetype": "text/x-python",
   "name": "python",
   "nbconvert_exporter": "python",
   "pygments_lexer": "ipython3",
   "version": "3.6.8"
  }
 },
 "nbformat": 4,
 "nbformat_minor": 2
}
