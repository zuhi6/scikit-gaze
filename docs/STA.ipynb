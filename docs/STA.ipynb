{
 "cells": [
  {
   "cell_type": "markdown",
   "metadata": {},
   "source": [
    "Príklad použitia STA algoritmu v našej knižnici a porovanie výsledkov s implementáciou tohoto algoritmu vo webovej aplikácii ScanPath Evaulator https://scanpath-evaluator.herokuapp.com/"
   ]
  },
  {
   "cell_type": "markdown",
   "metadata": {},
   "source": [
    "Načítame jednotlivé moduly v tomto prípade nám bude stačiť trieda Dataset a trieda STA. Zvyšné moduly sú z hľadiska našej knižnice nepodstátne."
   ]
  },
  {
   "cell_type": "code",
   "execution_count": 2,
   "metadata": {},
   "outputs": [],
   "source": [
    "import os\n",
    "os.getcwd()\n",
    "os.chdir('C:/Users/zuhi/Documents/workspaces/scikit-gaze/')\n",
    "from src.core.Dataset import Dataset\n",
    "from src.common_scanpath.STA import STA\n",
    "from IPython.display import Image\n"
   ]
  },
  {
   "cell_type": "markdown",
   "metadata": {},
   "source": [
    "Vytvoríme inštanciu triedy Dataset a načítame volne dostupnú dátovu sadu z článku *Scanpath Trend Analysis on Web Pages: Clustering Eye Tracking Scanpaths*. Táto konkrétna dátová sada mala pôvodne slúžiť na testovanie algoritmu eMine na stránke AVG, no pre ukážku výsledkov nám postačí."
   ]
  },
  {
   "cell_type": "code",
   "execution_count": 3,
   "metadata": {},
   "outputs": [],
   "source": [
    "dataset = Dataset('./data/template_sta/eMINE_searching_tasks/AVG/Scanpaths.tsv',\n",
    "'./data/template_sta/eMINE_searching_tasks/AVG/SegmentedPages.txt',filtered_dataset=True)"
   ]
  },
  {
   "cell_type": "markdown",
   "metadata": {},
   "source": [
    "V tomto kroku jednoducho pošleme do triedy STA našu dátovú sadu a zavoláme metódu run_sta()."
   ]
  },
  {
   "cell_type": "code",
   "execution_count": 4,
   "metadata": {},
   "outputs": [],
   "source": [
    "sta_result = STA(dataset).run_sta()\n"
   ]
  },
  {
   "cell_type": "markdown",
   "metadata": {},
   "source": [
    "Pre porovnanie výsledkov si vypočítame priemernú podobnosť sekvencií pohľadu jednotlivých participantov k spoločnej sekvencií pohľadu."
   ]
  },
  {
   "cell_type": "code",
   "execution_count": 5,
   "metadata": {},
   "outputs": [],
   "source": [
    "avg_similarity = 0\n",
    "for key, value in sta_result[\"similarity\"].items():\n",
    "    avg_similarity += value\n",
    "\n",
    "avg_similarity /= len(sta_result[\"similarity\"])"
   ]
  },
  {
   "cell_type": "markdown",
   "metadata": {},
   "source": [
    "Ako si možeme všimnúť algoritmus STA našiel spoločnú sekvenciu pohľadu G I H B ktorá je identická s tou ktorú našla webová aplikácia ScanPath Evaulator. Avšak trvania jednotlivých fixácií je značne rozdielne čo má za dôsledok aj inú podobnosť voči ostatným participantom."
   ]
  },
  {
   "cell_type": "code",
   "execution_count": 6,
   "metadata": {},
   "outputs": [
    {
     "data": {
      "text/plain": [
       "[['G', 314], ['I', 319], ['H', 228], ['B', 247]]"
      ]
     },
     "execution_count": 6,
     "metadata": {},
     "output_type": "execute_result"
    }
   ],
   "source": [
    "sta_result['fixations']"
   ]
  },
  {
   "cell_type": "code",
   "execution_count": 7,
   "metadata": {},
   "outputs": [
    {
     "data": {
      "text/plain": [
       "4.12336226198651"
      ]
     },
     "execution_count": 7,
     "metadata": {},
     "output_type": "execute_result"
    }
   ],
   "source": [
    "avg_similarity"
   ]
  },
  {
   "cell_type": "markdown",
   "metadata": {},
   "source": [
    "Výsledok v aplikácií ScanPath Evaulator."
   ]
  },
  {
   "cell_type": "code",
   "execution_count": 8,
   "metadata": {},
   "outputs": [
    {
     "data": {
      "image/png": "[encoded data removed]",
      "text/plain": [
       "<IPython.core.display.Image object>"
      ]
     },
     "execution_count": 8,
     "metadata": {},
     "output_type": "execute_result"
    }
   ],
   "source": [
    "Image(\"./data/images/avg-searching-sta.png\")"
   ]
  }
 ],
 "metadata": {
  "kernelspec": {
   "display_name": "Python 3",
   "language": "python",
   "name": "python3"
  },
  "language_info": {
   "codemirror_mode": {
    "name": "ipython",
    "version": 3
   },
   "file_extension": ".py",
   "mimetype": "text/x-python",
   "name": "python",
   "nbconvert_exporter": "python",
   "pygments_lexer": "ipython3",
   "version": "3.6.8"
  }
 },
 "nbformat": 4,
 "nbformat_minor": 2
}
