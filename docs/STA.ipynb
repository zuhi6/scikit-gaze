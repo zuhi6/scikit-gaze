{
 "cells": [
  {
   "cell_type": "markdown",
   "metadata": {},
   "source": [
    "Načítame jednotlivé moduly v tomto prípade nám bude stačiť trieda Dataset a trieda STA. Zvyšné moduly sú z hľadiska našej knižnice nepodstátne."
   ]
  },
  {
   "cell_type": "code",
   "execution_count": 1,
   "metadata": {},
   "outputs": [],
   "source": [
    "from skgaze.core.Dataset import Dataset\n",
    "from skgaze.common_scanpath.STA import STA"
   ]
  },
  {
   "cell_type": "markdown",
   "metadata": {},
   "source": [
    "Vytvoríme inštanciu triedy Dataset a načítame dátovú sadu z DOD2016."
   ]
  },
  {
   "cell_type": "code",
   "execution_count": 2,
   "metadata": {},
   "outputs": [],
   "source": [
    "dataset = Dataset('../data/DOD2016_fixations_10_participants.tsv',\n",
    "'../data/SegmentedPages.txt')"
   ]
  },
  {
   "cell_type": "markdown",
   "metadata": {},
   "source": [
    "V tomto kroku jednoducho pošleme do triedy STA našu dátovú sadu a zavoláme metódu run_sta()."
   ]
  },
  {
   "cell_type": "code",
   "execution_count": 3,
   "metadata": {},
   "outputs": [],
   "source": [
    "sta_result = STA(dataset).run_sta()\n"
   ]
  },
  {
   "cell_type": "markdown",
   "metadata": {},
   "source": [
    "V sta_result sa nachádza objekt kde atribút fixations hovorí o spoločnej sekvencií pohľadu."
   ]
  },
  {
   "cell_type": "code",
   "execution_count": 4,
   "metadata": {
    "scrolled": true
   },
   "outputs": [
    {
     "data": {
      "text/plain": [
       "[['e', 195],\n",
       " ['D', 240],\n",
       " ['E', 176],\n",
       " ['G', 145],\n",
       " ['C', 209],\n",
       " ['F', 165],\n",
       " ['B', 188],\n",
       " ['A', 180],\n",
       " ['P', 165]]"
      ]
     },
     "execution_count": 4,
     "metadata": {},
     "output_type": "execute_result"
    }
   ],
   "source": [
    "sta_result['fixations']"
   ]
  },
  {
   "cell_type": "markdown",
   "metadata": {},
   "source": [
    "Atribút similarity hovorí o podobnosti sekvencií pohľadu jednotlivých participantov k spoločnej sekvencií pohľadu."
   ]
  },
  {
   "cell_type": "code",
   "execution_count": 5,
   "metadata": {},
   "outputs": [
    {
     "data": {
      "text/plain": [
       "{'P01m': 4.026845637583898,\n",
       " 'P01o': 14.28571428571429,\n",
       " 'P01n': 2.5125628140703515,\n",
       " 'P01p': 8.333333333333337,\n",
       " 'P01q': 8.333333333333337,\n",
       " 'P02q': 13.953488372093027,\n",
       " 'P01r': 5.333333333333334,\n",
       " 'P03r': 4.1860465116279055,\n",
       " 'P01i': 13.043478260869568,\n",
       " 'P02i': 13.793103448275868}"
      ]
     },
     "execution_count": 5,
     "metadata": {},
     "output_type": "execute_result"
    }
   ],
   "source": [
    "sta_result[\"similarity\"]"
   ]
  }
 ],
 "metadata": {
  "kernelspec": {
   "display_name": "Python 3",
   "language": "python",
   "name": "python3"
  },
  "language_info": {
   "codemirror_mode": {
    "name": "ipython",
    "version": 3
   },
   "file_extension": ".py",
   "mimetype": "text/x-python",
   "name": "python",
   "nbconvert_exporter": "python",
   "pygments_lexer": "ipython3",
   "version": "3.7.3"
  }
 },
 "nbformat": 4,
 "nbformat_minor": 2
}
