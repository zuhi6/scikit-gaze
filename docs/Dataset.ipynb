{
 "cells": [
  {
   "cell_type": "markdown",
   "metadata": {},
   "source": [
    "Import modulu Dataset"
   ]
  },
  {
   "cell_type": "code",
   "execution_count": 12,
   "metadata": {},
   "outputs": [],
   "source": [
    "import os\n",
    "os.getcwd()\n",
    "os.chdir('C:/Users/zuhi/Documents/workspaces/scikit-gaze/')\n",
    "from src.core.Dataset import Dataset"
   ]
  },
  {
   "cell_type": "markdown",
   "metadata": {},
   "source": [
    "Prvý argument classy Dataset je tsv súbor z Tobii Studia, druhý je textový súbor obsahujúci informácie o jednotlivých oblastiach záujmu a posledný argument je optional a odovzdáva informáciu našej knižnici o tom či je náš dataset vyfiltrovaný."
   ]
  },
  {
   "cell_type": "code",
   "execution_count": 11,
   "metadata": {},
   "outputs": [],
   "source": [
    "dataset = Dataset('./data/template_sta/eMINE_searching_tasks/AVG/Scanpaths.tsv',\n",
    "'./data/template_sta/eMINE_searching_tasks/AVG/SegmentedPages.txt',filtered_dataset=True)"
   ]
  },
  {
   "cell_type": "markdown",
   "metadata": {},
   "source": [
    "Výpis základných údajov z datasetu."
   ]
  },
  {
   "cell_type": "code",
   "execution_count": 10,
   "metadata": {
    "scrolled": true
   },
   "outputs": [
    {
     "name": "stdout",
     "output_type": "stream",
     "text": [
      "Number of participants:  3138\n",
      "Number of Areas of Interest (AIO):  25\n",
      "Filtered dataset:  True\n"
     ]
    }
   ],
   "source": [
    "#Basic information about dataset\n",
    "dataset.info()"
   ]
  },
  {
   "cell_type": "markdown",
   "metadata": {},
   "source": [
    "Každý dataset obsahuje pole participantov zúčastnených na experimente. Pre prístup ku konkrétnemu participantovi jednoducho indexujeme v poli. Jednotlivé atríbuty dostaneme nasledovne. "
   ]
  },
  {
   "cell_type": "code",
   "execution_count": 34,
   "metadata": {},
   "outputs": [
    {
     "name": "stdout",
     "output_type": "stream",
     "text": [
      "ID01\n",
      "[['I', '658']]\n"
     ]
    }
   ],
   "source": [
    "print(dataset.participants[0].id)\n",
    "print(dataset.participants[0].scanpath)\n",
    "#Dostaneme sa aj k jednotlivým fixáciam no pre dĺžku výstupu nechávame túto časť kódu zakomentovanú\n",
    "#print(dataset.participants[0].fixations)\n"
   ]
  },
  {
   "cell_type": "markdown",
   "metadata": {},
   "source": [
    "Informácie o oblastiach záujmu dostaneme podobným spôsobom ako pri participantoch."
   ]
  },
  {
   "cell_type": "code",
   "execution_count": 31,
   "metadata": {},
   "outputs": [
    {
     "name": "stdout",
     "output_type": "stream",
     "text": [
      "header-logo\n",
      "A\n",
      "15\n",
      "12\n",
      "135\n",
      "60\n"
     ]
    }
   ],
   "source": [
    "print(dataset.aoi_array[0].type_of_element)\n",
    "print(dataset.aoi_array[0].aoi_char)\n",
    "print(dataset.aoi_array[0].x)\n",
    "print(dataset.aoi_array[0].y)\n",
    "print(dataset.aoi_array[0].weight)\n",
    "print(dataset.aoi_array[0].height)"
   ]
  }
 ],
 "metadata": {
  "kernelspec": {
   "display_name": "Python 3",
   "language": "python",
   "name": "python3"
  },
  "language_info": {
   "codemirror_mode": {
    "name": "ipython",
    "version": 3
   },
   "file_extension": ".py",
   "mimetype": "text/x-python",
   "name": "python",
   "nbconvert_exporter": "python",
   "pygments_lexer": "ipython3",
   "version": "3.6.8"
  }
 },
 "nbformat": 4,
 "nbformat_minor": 2
}
