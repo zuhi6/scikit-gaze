{
 "cells": [
  {
   "cell_type": "markdown",
   "metadata": {},
   "source": [
    "Import modulu Dataset"
   ]
  },
  {
   "cell_type": "code",
   "execution_count": 3,
   "metadata": {},
   "outputs": [],
   "source": [
    "from skgaze.core.Dataset import Dataset"
   ]
  },
  {
   "cell_type": "markdown",
   "metadata": {},
   "source": [
    "Prvý argument classy Dataset je tsv súbor z Tobii Studia, druhý je textový súbor obsahujúci informácie o jednotlivých oblastiach záujmu a posledný argument je optional a odovzdáva informáciu našej knižnici o tom či je náš dataset vyfiltrovaný."
   ]
  },
  {
   "cell_type": "code",
   "execution_count": 4,
   "metadata": {},
   "outputs": [],
   "source": [
    "dataset = Dataset('../data/DOD2016_fixations.tsv',\n",
    "'../data/SegmentedPages.txt')\n"
   ]
  },
  {
   "cell_type": "markdown",
   "metadata": {},
   "source": [
    "Výpis základných údajov z datasetu."
   ]
  },
  {
   "cell_type": "code",
   "execution_count": 5,
   "metadata": {
    "scrolled": true
   },
   "outputs": [
    {
     "name": "stdout",
     "output_type": "stream",
     "text": [
      "Number of participants:  53\n",
      "Number of Areas of Interest (AIO):  33\n",
      "Filtered dataset:  False\n"
     ]
    }
   ],
   "source": [
    "#Basic information about dataset\n",
    "dataset.info()"
   ]
  },
  {
   "cell_type": "markdown",
   "metadata": {},
   "source": [
    "Každý dataset obsahuje pole participantov zúčastnených na experimente. Pre prístup ku konkrétnemu participantovi jednoducho indexujeme v poli. Jednotlivé atríbuty dostaneme nasledovne. "
   ]
  },
  {
   "cell_type": "code",
   "execution_count": 6,
   "metadata": {},
   "outputs": [
    {
     "name": "stdout",
     "output_type": "stream",
     "text": [
      "P01m\n",
      "[['E', '117'], ['e', '117'], ['C', '200'], ['e', '200'], ['C', '135'], ['e', '135'], ['C', '117'], ['C', '300'], ['C', '233'], ['C', '300'], ['C', '217'], ['C', '233'], ['B', '250'], ['T', '250'], ['E', '183'], ['e', '183'], ['F', '67'], ['e', '67'], ['B', '200'], ['R', '200'], ['C', '133'], ['C', '183'], ['C', '183'], ['B', '200'], ['C', '200'], ['S', '200'], ['A', '150'], ['A', '100'], ['B', '183'], ['S', '183'], ['B', '117'], ['S', '117'], ['B', '150'], ['T', '150'], ['B', '283'], ['S', '283'], ['C', '200'], ['C', '350'], ['C', '150'], ['C', '183'], ['B', '250'], ['C', '250'], ['S', '250'], ['B', '83'], ['C', '83'], ['S', '83'], ['C', '117'], ['B', '183'], ['C', '183'], ['S', '183'], ['C', '133'], ['R', '133'], ['B', '183'], ['C', '183'], ['Q', '183'], ['B', '483'], ['C', '483'], ['Q', '483'], ['B', '183'], ['C', '183'], ['Q', '183'], ['B', '83'], ['C', '83'], ['R', '83'], ['C', '133'], ['R', '133'], ['A', '183'], ['P', '183'], ['B', '150'], ['Q', '150'], ['B', '183'], ['Q', '183'], ['B', '167'], ['Q', '167'], ['A', '250'], ['P', '250'], ['B', '83'], ['C', '83'], ['Q', '83'], ['C', '217'], ['C', '300'], ['C', '200'], ['C', '333'], ['C', '100'], ['C', '200'], ['C', '333'], ['C', '183'], ['C', '100'], ['C', '117'], ['C', '167'], ['C', '233'], ['B', '133'], ['C', '133'], ['Q', '133'], ['B', '250'], ['C', '250'], ['Q', '250'], ['A', '167'], ['P', '167'], ['A', '183'], ['P', '183'], ['A', '133'], ['P', '133'], ['A', '100'], ['P', '100'], ['B', '133'], ['Q', '133'], ['B', '150'], ['C', '150'], ['Q', '150'], ['A', '183'], ['P', '183'], ['B', '167'], ['C', '167'], ['V', '167'], ['C', '83'], ['F', '83'], ['e', '83'], ['F', '183'], ['e', '183'], ['F', '283'], ['e', '283'], ['D', '217'], ['E', '217'], ['e', '217'], ['D', '133'], ['e', '133'], ['D', '100'], ['e', '100'], ['D', '117'], ['e', '117'], ['D', '317'], ['e', '317'], ['D', '133'], ['e', '133'], ['D', '350'], ['e', '350'], ['D', '233'], ['e', '233'], ['D', '200'], ['e', '200'], ['D', '333'], ['e', '333'], ['D', '133'], ['e', '133'], ['D', '832'], ['e', '832'], ['D', '406'], ['e', '406']]\n"
     ]
    }
   ],
   "source": [
    "print(dataset.participants[0].id)\n",
    "print(dataset.participants[0].scanpath)\n",
    "#Dostaneme sa aj k jednotlivým fixáciam no pre dĺžku výstupu nechávame túto časť kódu zakomentovanú\n",
    "#print(dataset.participants[0].fixations)\n"
   ]
  },
  {
   "cell_type": "markdown",
   "metadata": {},
   "source": [
    "Informácie o oblastiach záujmu dostaneme podobným spôsobom ako pri participantoch."
   ]
  },
  {
   "cell_type": "code",
   "execution_count": 8,
   "metadata": {},
   "outputs": [
    {
     "name": "stdout",
     "output_type": "stream",
     "text": [
      "header\n",
      "A\n",
      "0\n",
      "0\n",
      "1864\n",
      "90\n"
     ]
    }
   ],
   "source": [
    "print(dataset.aoi_array[0].type_of_element)\n",
    "print(dataset.aoi_array[0].aoi_char)\n",
    "print(dataset.aoi_array[0].x)\n",
    "print(dataset.aoi_array[0].y)\n",
    "print(dataset.aoi_array[0].width)\n",
    "print(dataset.aoi_array[0].height)"
   ]
  }
 ],
 "metadata": {
  "kernelspec": {
   "display_name": "Python 3",
   "language": "python",
   "name": "python3"
  },
  "language_info": {
   "codemirror_mode": {
    "name": "ipython",
    "version": 3
   },
   "file_extension": ".py",
   "mimetype": "text/x-python",
   "name": "python",
   "nbconvert_exporter": "python",
   "pygments_lexer": "ipython3",
   "version": "3.7.3"
  }
 },
 "nbformat": 4,
 "nbformat_minor": 2
}
