{
 "cells": [
  {
   "cell_type": "markdown",
   "metadata": {},
   "source": [
    "Import modulov"
   ]
  },
  {
   "cell_type": "code",
   "execution_count": 10,
   "metadata": {},
   "outputs": [],
   "source": [
    "from skgaze.similarity_algorithms import levenshtein_distance, longest_common_subsequence, longest_common_substring, similarity"
   ]
  },
  {
   "cell_type": "markdown",
   "metadata": {},
   "source": [
    "Výpočet Levenshteinovej vzdialenosti"
   ]
  },
  {
   "cell_type": "code",
   "execution_count": 7,
   "metadata": {},
   "outputs": [
    {
     "data": {
      "text/plain": [
       "12"
      ]
     },
     "execution_count": 7,
     "metadata": {},
     "output_type": "execute_result"
    }
   ],
   "source": [
    "levenshtein_distance.get_edit_distance(\"AVBWEOEIOIEROE\", \"OIPOPPOPOTRIOV\")"
   ]
  },
  {
   "cell_type": "markdown",
   "metadata": {},
   "source": [
    "Výpočet longest common subsequence"
   ]
  },
  {
   "cell_type": "code",
   "execution_count": 8,
   "metadata": {},
   "outputs": [
    {
     "data": {
      "text/plain": [
       "'OIOIO'"
      ]
     },
     "execution_count": 8,
     "metadata": {},
     "output_type": "execute_result"
    }
   ],
   "source": [
    "longest_common_subsequence.get_longest_common_subsequence(\"AVBWEOEIOIEROE\", \"OIPOPPOPOTRIOV\")"
   ]
  },
  {
   "cell_type": "markdown",
   "metadata": {},
   "source": [
    "Výpočet longest common substring"
   ]
  },
  {
   "cell_type": "code",
   "execution_count": 9,
   "metadata": {},
   "outputs": [
    {
     "data": {
      "text/plain": [
       "'IO'"
      ]
     },
     "execution_count": 9,
     "metadata": {},
     "output_type": "execute_result"
    }
   ],
   "source": [
    "longest_common_substring.get_longest_common_substring(\"AVBWEOEIOIEROE\", \"OIPOPPOPOTRIOV\")"
   ]
  },
  {
   "cell_type": "markdown",
   "metadata": {},
   "source": [
    "Vyratanie podobnosti dvoch sekvencií pohľadu v percentách"
   ]
  },
  {
   "cell_type": "code",
   "execution_count": 11,
   "metadata": {},
   "outputs": [
    {
     "data": {
      "text/plain": [
       "14.28571428571429"
      ]
     },
     "execution_count": 11,
     "metadata": {},
     "output_type": "execute_result"
    }
   ],
   "source": [
    "similarity.calc_similarity(\"AVBWEOEIOIEROE\", \"OIPOPPOPOTRIOV\")"
   ]
  },
  {
   "cell_type": "markdown",
   "metadata": {},
   "source": [
    "Pre prácu s nasledujúcimi funkciami potrebujeme takýto formát vstupu"
   ]
  },
  {
   "cell_type": "code",
   "execution_count": 23,
   "metadata": {},
   "outputs": [],
   "source": [
    "test_scanpaths = [{\"identifier\":\"1\",\"raw_str\":\"AVBWEOEIOIEROE\"}, {\"identifier\":\"2\",\"raw_str\":\"OIPOPPOPOTRIOV\"}, {\"identifier\":\"3\",\"raw_str\":\"asdfsadfsdfwdsfsd\"}]"
   ]
  },
  {
   "cell_type": "markdown",
   "metadata": {},
   "source": [
    "Výpočet podobnosti medzi sekvenciami pohľadu."
   ]
  },
  {
   "cell_type": "code",
   "execution_count": 24,
   "metadata": {},
   "outputs": [],
   "source": [
    "similarity.calc_mutual_similarity(test_scanpaths)"
   ]
  },
  {
   "cell_type": "code",
   "execution_count": 25,
   "metadata": {},
   "outputs": [
    {
     "data": {
      "text/plain": [
       "[{'identifier': '1',\n",
       "  'raw_str': 'AVBWEOEIOIEROE',\n",
       "  'similarity': {'2': 14.28571428571429, '3': 0.0}},\n",
       " {'identifier': '2',\n",
       "  'raw_str': 'OIPOPPOPOTRIOV',\n",
       "  'similarity': {'1': 14.28571428571429, '3': 0.0}},\n",
       " {'identifier': '3',\n",
       "  'raw_str': 'asdfsadfsdfwdsfsd',\n",
       "  'similarity': {'1': 0.0, '2': 0.0}}]"
      ]
     },
     "execution_count": 25,
     "metadata": {},
     "output_type": "execute_result"
    }
   ],
   "source": [
    "test_scanpaths"
   ]
  },
  {
   "cell_type": "markdown",
   "metadata": {},
   "source": [
    "Podobnosť k spoločnej sekvencií pohľadu"
   ]
  },
  {
   "cell_type": "code",
   "execution_count": 27,
   "metadata": {},
   "outputs": [
    {
     "data": {
      "text/plain": [
       "{'1': 100.0, '2': 14.28571428571429, '3': 0.0}"
      ]
     },
     "execution_count": 27,
     "metadata": {},
     "output_type": "execute_result"
    }
   ],
   "source": [
    "similarity.calc_similarity_to_common(test_scanpaths,\"AVBWEOEIOIEROE\")"
   ]
  },
  {
   "cell_type": "markdown",
   "metadata": {},
   "source": [
    "Vráti najpodobnejši pár sekvencií pohľadu"
   ]
  },
  {
   "cell_type": "code",
   "execution_count": 28,
   "metadata": {},
   "outputs": [
    {
     "data": {
      "text/plain": [
       "[{'identifier': '1',\n",
       "  'raw_str': 'AVBWEOEIOIEROE',\n",
       "  'similarity': {'2': 14.28571428571429, '3': 0.0}},\n",
       " {'identifier': '2',\n",
       "  'raw_str': 'OIPOPPOPOTRIOV',\n",
       "  'similarity': {'1': 14.28571428571429, '3': 0.0}},\n",
       " 14.28571428571429]"
      ]
     },
     "execution_count": 28,
     "metadata": {},
     "output_type": "execute_result"
    }
   ],
   "source": [
    "similarity.get_most_similar_pair(test_scanpaths)"
   ]
  }
 ],
 "metadata": {
  "kernelspec": {
   "display_name": "Python 3",
   "language": "python",
   "name": "python3"
  },
  "language_info": {
   "codemirror_mode": {
    "name": "ipython",
    "version": 3
   },
   "file_extension": ".py",
   "mimetype": "text/x-python",
   "name": "python",
   "nbconvert_exporter": "python",
   "pygments_lexer": "ipython3",
   "version": "3.7.3"
  }
 },
 "nbformat": 4,
 "nbformat_minor": 2
}
