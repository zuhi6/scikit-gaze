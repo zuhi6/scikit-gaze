{
 "cells": [
  {
   "cell_type": "markdown",
   "metadata": {},
   "source": [
    "Import modulov"
   ]
  },
  {
   "cell_type": "code",
   "execution_count": 1,
   "metadata": {},
   "outputs": [],
   "source": [
    "from skgaze.core.Dataset import Dataset\n",
    "from skgaze.pattern_search.SPAM import SPAM"
   ]
  },
  {
   "cell_type": "markdown",
   "metadata": {},
   "source": [
    "Načítanie dátovej sady"
   ]
  },
  {
   "cell_type": "code",
   "execution_count": 2,
   "metadata": {},
   "outputs": [],
   "source": [
    "dataset = Dataset('../data/DOD2016_fixations_10_participants.tsv',\n",
    "'../data/SegmentedPages.txt')"
   ]
  },
  {
   "cell_type": "markdown",
   "metadata": {},
   "source": [
    "Vytvorenie inštancie triedy SPAM"
   ]
  },
  {
   "cell_type": "code",
   "execution_count": 3,
   "metadata": {},
   "outputs": [],
   "source": [
    "spam = SPAM(dataset)"
   ]
  },
  {
   "cell_type": "markdown",
   "metadata": {},
   "source": [
    "Zavolanie metódy runSpam so štandardnými hodnotami parametrov"
   ]
  },
  {
   "cell_type": "code",
   "execution_count": 4,
   "metadata": {},
   "outputs": [
    {
     "data": {
      "text/plain": [
       "[[1, 'E', 10],\n",
       " [2, 'e', 10],\n",
       " [3, 'C', 10],\n",
       " [4, 'B', 6],\n",
       " [5, 'F', 9],\n",
       " [6, 'A', 7],\n",
       " [7, 'P', 6],\n",
       " [8, 'D', 8],\n",
       " [9, 'G', 7],\n",
       " [10, ['E', 'e'], 10],\n",
       " [11, ['E', 'e', 'E'], 7],\n",
       " [12, ['E', 'e', 'E', 'e'], 7],\n",
       " [13, ['E', 'e', 'F'], 6],\n",
       " [14, ['E', 'e', 'F', 'e'], 6],\n",
       " [15, ['E', 'e', 'D'], 5],\n",
       " [16, ['E', 'e', 'D', 'e'], 5],\n",
       " [17, ['e', 'E'], 9],\n",
       " [18, ['e', 'E', 'e'], 9],\n",
       " [19, ['e', 'E', 'e', 'E'], 6],\n",
       " [20, ['e', 'E', 'e', 'F'], 5],\n",
       " [21, ['e', 'C'], 8],\n",
       " [22, ['e', 'C', 'C'], 5],\n",
       " [23, ['e', 'F'], 8],\n",
       " [24, ['e', 'F', 'e'], 8],\n",
       " [25, ['e', 'F', 'e', 'F'], 7],\n",
       " [26, ['e', 'D'], 8],\n",
       " [27, ['e', 'D', 'e'], 8],\n",
       " [28, ['e', 'D', 'e', 'D'], 8],\n",
       " [29, ['e', 'G'], 7],\n",
       " [30, ['e', 'G', 'e'], 7],\n",
       " [31, ['e', 'G', 'e', 'G'], 6],\n",
       " [32, ['C', 'e'], 5],\n",
       " [33, ['C', 'C'], 7],\n",
       " [34, ['C', 'C', 'C'], 5],\n",
       " [35, ['C', 'C', 'C', 'C'], 5],\n",
       " [36, ['B', 'C'], 5],\n",
       " [37, ['F', 'e'], 9],\n",
       " [38, ['F', 'e', 'E'], 5],\n",
       " [39, ['F', 'e', 'E', 'e'], 5],\n",
       " [40, ['F', 'e', 'F'], 7],\n",
       " [41, ['F', 'e', 'F', 'e'], 7],\n",
       " [42, ['A', 'P'], 6],\n",
       " [43, ['D', 'e'], 8],\n",
       " [44, ['D', 'e', 'D'], 8],\n",
       " [45, ['D', 'e', 'D', 'e'], 8],\n",
       " [46, ['G', 'e'], 7],\n",
       " [47, ['G', 'e', 'G'], 6],\n",
       " [48, ['G', 'e', 'G', 'e'], 6]]"
      ]
     },
     "execution_count": 4,
     "metadata": {},
     "output_type": "execute_result"
    }
   ],
   "source": [
    "spam.runSpam()"
   ]
  },
  {
   "cell_type": "markdown",
   "metadata": {},
   "source": [
    "Pozmené parametre pre hľadanie vzorov s maximalnou dĺžkou 6 a minimálnou dĺžkou 5. Taktiež parametrom minsup_percenta dáme algoritmu vedieť, že vzor sa musí nachádzať minimálne v toľkýchto percentách sekvencií pohľadu."
   ]
  },
  {
   "cell_type": "code",
   "execution_count": 10,
   "metadata": {},
   "outputs": [
    {
     "data": {
      "text/plain": [
       "[[1, ['e', 'D', 'e', 'D', 'e'], 8],\n",
       " [2, ['e', 'D', 'e', 'D', 'e', 'D'], 8],\n",
       " [3, ['D', 'e', 'D', 'e', 'D'], 8],\n",
       " [4, ['D', 'e', 'D', 'e', 'D', 'e'], 8]]"
      ]
     },
     "execution_count": 10,
     "metadata": {},
     "output_type": "execute_result"
    }
   ],
   "source": [
    "spam.runSpam(minsup_percenta=0.8, maxlength=6, minlength=5)"
   ]
  }
 ],
 "metadata": {
  "kernelspec": {
   "display_name": "Python 3",
   "language": "python",
   "name": "python3"
  },
  "language_info": {
   "codemirror_mode": {
    "name": "ipython",
    "version": 3
   },
   "file_extension": ".py",
   "mimetype": "text/x-python",
   "name": "python",
   "nbconvert_exporter": "python",
   "pygments_lexer": "ipython3",
   "version": "3.7.3"
  }
 },
 "nbformat": 4,
 "nbformat_minor": 2
}
