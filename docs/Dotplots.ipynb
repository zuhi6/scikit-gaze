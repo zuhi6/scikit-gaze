{
 "cells": [
  {
   "cell_type": "markdown",
   "metadata": {},
   "source": [
    "Načítame jednotlivé moduly v tomto prípade nám bude stačiť trieda Dataset a trieda Dotplots. Zvyšné moduly sú z hľadiska našej knižnice nepodstátne."
   ]
  },
  {
   "cell_type": "code",
   "execution_count": 8,
   "metadata": {},
   "outputs": [],
   "source": [
    "from skgaze.core.Dataset import Dataset\n",
    "from skgaze.common_scanpath.Dotplots import Dotplots"
   ]
  },
  {
   "cell_type": "markdown",
   "metadata": {},
   "source": [
    "Vytvoríme inštanciu triedy Dataset a načítame dátovú sadu z DOD2016 o 10 participantoch."
   ]
  },
  {
   "cell_type": "code",
   "execution_count": 9,
   "metadata": {},
   "outputs": [],
   "source": [
    "dataset = Dataset('../data/DOD2016_fixations_10_participants.tsv',\n",
    "'../data/SegmentedPages.txt')"
   ]
  },
  {
   "cell_type": "markdown",
   "metadata": {},
   "source": [
    "V tomto kroku jednoducho pošleme do triedy Dotplots našu dátovú sadu a zavoláme metódu run_dotplot()."
   ]
  },
  {
   "cell_type": "code",
   "execution_count": 10,
   "metadata": {},
   "outputs": [],
   "source": [
    "dotplots_result = Dotplots(dataset).run_dotplot()"
   ]
  },
  {
   "cell_type": "markdown",
   "metadata": {},
   "source": [
    "V sta_result sa nachádza objekt kde atribút fixations hovorí o spoločnej sekvencií pohľadu."
   ]
  },
  {
   "cell_type": "code",
   "execution_count": 11,
   "metadata": {},
   "outputs": [
    {
     "data": {
      "text/plain": [
       "[['e', 0], ['e', 0], ['e', 0]]"
      ]
     },
     "execution_count": 11,
     "metadata": {},
     "output_type": "execute_result"
    }
   ],
   "source": [
    "dotplots_result[\"fixations\"]"
   ]
  },
  {
   "cell_type": "code",
   "execution_count": 12,
   "metadata": {},
   "outputs": [
    {
     "data": {
      "text/plain": [
       "{'P01m': 2.0134228187919434,\n",
       " 'P01o': 10.71428571428571,\n",
       " 'P01n': 1.5075376884422065,\n",
       " 'P01p': 5.000000000000004,\n",
       " 'P01q': 5.000000000000004,\n",
       " 'P02q': 6.976744186046513,\n",
       " 'P01r': 4.0000000000000036,\n",
       " 'P03r': 1.3953488372092981,\n",
       " 'P01i': 6.521739130434778,\n",
       " 'P02i': 10.344827586206895}"
      ]
     },
     "execution_count": 12,
     "metadata": {},
     "output_type": "execute_result"
    }
   ],
   "source": [
    "dotplots_result[\"similarity\"]"
   ]
  }
 ],
 "metadata": {
  "kernelspec": {
   "display_name": "Python 3",
   "language": "python",
   "name": "python3"
  },
  "language_info": {
   "codemirror_mode": {
    "name": "ipython",
    "version": 3
   },
   "file_extension": ".py",
   "mimetype": "text/x-python",
   "name": "python",
   "nbconvert_exporter": "python",
   "pygments_lexer": "ipython3",
   "version": "3.7.3"
  }
 },
 "nbformat": 4,
 "nbformat_minor": 2
}
